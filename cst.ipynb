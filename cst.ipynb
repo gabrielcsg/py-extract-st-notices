{
 "cells": [
  {
   "cell_type": "code",
   "execution_count": 13,
   "metadata": {},
   "outputs": [],
   "source": [
    "import requests\n",
    "from bs4 import BeautifulSoup"
   ]
  },
  {
   "cell_type": "code",
   "execution_count": 14,
   "metadata": {},
   "outputs": [
    {
     "data": {
      "text/plain": [
       "'https://serratalhada.pe.gov.br/transparencia/publicacoes/index/processos-seletivos'"
      ]
     },
     "execution_count": 14,
     "metadata": {},
     "output_type": "execute_result"
    }
   ],
   "source": [
    "base_url = \"https://serratalhada.pe.gov.br\"\n",
    "url = base_url + \"/transparencia/publicacoes/index/processos-seletivos\"\n",
    "url"
   ]
  },
  {
   "cell_type": "code",
   "execution_count": 15,
   "metadata": {},
   "outputs": [],
   "source": [
    "headers = {\n",
    "    \"User-Agent\": \"Mozilla/5.0 (Windows NT 10.0; Win64; x64) AppleWebKit/537.36 (KHTML, like Gecko) Chrome/58.0.3029.110 Safari/537.3\"\n",
    "}\n",
    "response = requests.get(url, headers=headers)\n"
   ]
  },
  {
   "cell_type": "code",
   "execution_count": 16,
   "metadata": {},
   "outputs": [],
   "source": [
    "soup = BeautifulSoup(response.content, 'html.parser')\n",
    "# transform int\n",
    "pages = soup.find_all(\n",
    "    \"div\", attrs={\"class\": \"paginator\"})[0].find(\"p\").text.split(\" \")[-1]\n",
    "list = soup.find_all(name=\"ul\", attrs={\"id\": \"posts-list\"})[0]"
   ]
  },
  {
   "cell_type": "code",
   "execution_count": 17,
   "metadata": {},
   "outputs": [],
   "source": [
    "import re\n",
    "\n",
    "date_pattern = r'\\d{2}/\\d{2}/\\d{4}'\n",
    "\n",
    "items_list = []\n",
    "for row in list.find_all(\"li\"):\n",
    "    category = row.find(\"div\").text.strip()\n",
    "    title = row.find(\"h2\").text.strip()\n",
    "    description = row.find(\"p\").text.strip().split(\" \\n\\n\")[0]\n",
    "    link = base_url + row.find(\"p\").find(\"span\").find(\"a\").attrs['href']\n",
    "\n",
    "    dates = row.find_all(\"span\", attrs={\"class\": \"details\"})[0].text\n",
    "    published_at = re.search(date_pattern, dates.split(\",\")[0]).group()\n",
    "    updated_at = re.search(date_pattern, dates.split(\",\")[1]).group()\n",
    "\n",
    "    items_list.append({\n",
    "        \"category\": category,\n",
    "        \"title\": title,\n",
    "        \"description\": description,\n",
    "        \"link\": link,\n",
    "        \"published_at\": published_at,\n",
    "        \"updated_at\": updated_at,\n",
    "\n",
    "    })"
   ]
  },
  {
   "cell_type": "code",
   "execution_count": 18,
   "metadata": {},
   "outputs": [
    {
     "data": {
      "text/plain": [
       "[{'category': 'Saude',\n",
       "  'title': 'EDITAL Nº001-4/2024 - PROCESSO SELETIVO SMS',\n",
       "  'description': 'Processo Seletivo Simplificado, visando a formação de cadastro de reserva para futura Contratação Temporária de profissionais, para Secretaria Municipal de Saúde.',\n",
       "  'link': 'https://serratalhada.pe.gov.br/transparencia/publicacoes/detalhe/31-05-2024-edital-n001-4-2024-processo-seletivo-sms-processos-seletivos-saude',\n",
       "  'published_at': '14/06/2024',\n",
       "  'updated_at': '22/06/2024'},\n",
       " {'category': 'Educação',\n",
       "  'title': 'EDITAL Nº 001-5/2024 - PROCESSO SELETIVO 2 SEST',\n",
       "  'description': 'Processo Seletivo Simplificado 2 para Contratação Temporária por excepcional interesse público de várias funções para Secretaria de Educação.',\n",
       "  'link': 'https://serratalhada.pe.gov.br/transparencia/publicacoes/detalhe/18-06-2024-edital-n-001-5-2024-processo-seletivo-sest-processos-seletivos-educacao',\n",
       "  'published_at': '19/06/2024',\n",
       "  'updated_at': '19/06/2024'},\n",
       " {'category': 'Secretaria de Administração',\n",
       "  'title': 'EDITAL Nº 001-2/2024 - PROCESSO SELETIVO SMASC',\n",
       "  'description': 'Processo Seletivo Simplificado para preenchimento de vagas e formação de Cadastro de Reserva de várias funções para Assistência Social.',\n",
       "  'link': 'https://serratalhada.pe.gov.br/transparencia/publicacoes/detalhe/14-05-2024-edital-n-001-2-2024-processo-seletivo-smasc-processos-seletivos-secretaria-de-administracao',\n",
       "  'published_at': '31/05/2024',\n",
       "  'updated_at': '14/06/2024'},\n",
       " {'category': 'Educação',\n",
       "  'title': 'EDITAL Nº 001-3/2024 - PROCESSO SELETIVO SEST',\n",
       "  'description': 'Processo Seletivo Simplificado para Contratação Temporária por excepcional interesse público de várias funções para Secretaria de Educação.',\n",
       "  'link': 'https://serratalhada.pe.gov.br/transparencia/publicacoes/detalhe/14-05-2024-edital-n-001-3-2024-processo-seletivo-sest-processos-seletivos-educacao',\n",
       "  'published_at': '16/05/2024',\n",
       "  'updated_at': '14/06/2024'}]"
      ]
     },
     "execution_count": 18,
     "metadata": {},
     "output_type": "execute_result"
    }
   ],
   "source": [
    "items_list"
   ]
  },
  {
   "cell_type": "code",
   "execution_count": 19,
   "metadata": {},
   "outputs": [
    {
     "data": {
      "text/html": [
       "<div>\n",
       "<style scoped>\n",
       "    .dataframe tbody tr th:only-of-type {\n",
       "        vertical-align: middle;\n",
       "    }\n",
       "\n",
       "    .dataframe tbody tr th {\n",
       "        vertical-align: top;\n",
       "    }\n",
       "\n",
       "    .dataframe thead th {\n",
       "        text-align: right;\n",
       "    }\n",
       "</style>\n",
       "<table border=\"1\" class=\"dataframe\">\n",
       "  <thead>\n",
       "    <tr style=\"text-align: right;\">\n",
       "      <th></th>\n",
       "      <th>category</th>\n",
       "      <th>title</th>\n",
       "      <th>description</th>\n",
       "      <th>link</th>\n",
       "      <th>published_at</th>\n",
       "      <th>updated_at</th>\n",
       "    </tr>\n",
       "  </thead>\n",
       "  <tbody>\n",
       "    <tr>\n",
       "      <th>0</th>\n",
       "      <td>Saude</td>\n",
       "      <td>EDITAL Nº001-4/2024 - PROCESSO SELETIVO SMS</td>\n",
       "      <td>Processo Seletivo Simplificado, visando a form...</td>\n",
       "      <td>https://serratalhada.pe.gov.br/transparencia/p...</td>\n",
       "      <td>14/06/2024</td>\n",
       "      <td>22/06/2024</td>\n",
       "    </tr>\n",
       "    <tr>\n",
       "      <th>1</th>\n",
       "      <td>Educação</td>\n",
       "      <td>EDITAL Nº 001-5/2024 - PROCESSO SELETIVO 2 SEST</td>\n",
       "      <td>Processo Seletivo Simplificado 2 para Contrata...</td>\n",
       "      <td>https://serratalhada.pe.gov.br/transparencia/p...</td>\n",
       "      <td>19/06/2024</td>\n",
       "      <td>19/06/2024</td>\n",
       "    </tr>\n",
       "    <tr>\n",
       "      <th>2</th>\n",
       "      <td>Secretaria de Administração</td>\n",
       "      <td>EDITAL Nº 001-2/2024 - PROCESSO SELETIVO SMASC</td>\n",
       "      <td>Processo Seletivo Simplificado para preenchime...</td>\n",
       "      <td>https://serratalhada.pe.gov.br/transparencia/p...</td>\n",
       "      <td>31/05/2024</td>\n",
       "      <td>14/06/2024</td>\n",
       "    </tr>\n",
       "    <tr>\n",
       "      <th>3</th>\n",
       "      <td>Educação</td>\n",
       "      <td>EDITAL Nº 001-3/2024 - PROCESSO SELETIVO SEST</td>\n",
       "      <td>Processo Seletivo Simplificado para Contrataçã...</td>\n",
       "      <td>https://serratalhada.pe.gov.br/transparencia/p...</td>\n",
       "      <td>16/05/2024</td>\n",
       "      <td>14/06/2024</td>\n",
       "    </tr>\n",
       "  </tbody>\n",
       "</table>\n",
       "</div>"
      ],
      "text/plain": [
       "                      category  \\\n",
       "0                        Saude   \n",
       "1                     Educação   \n",
       "2  Secretaria de Administração   \n",
       "3                     Educação   \n",
       "\n",
       "                                             title  \\\n",
       "0      EDITAL Nº001-4/2024 - PROCESSO SELETIVO SMS   \n",
       "1  EDITAL Nº 001-5/2024 - PROCESSO SELETIVO 2 SEST   \n",
       "2   EDITAL Nº 001-2/2024 - PROCESSO SELETIVO SMASC   \n",
       "3    EDITAL Nº 001-3/2024 - PROCESSO SELETIVO SEST   \n",
       "\n",
       "                                         description  \\\n",
       "0  Processo Seletivo Simplificado, visando a form...   \n",
       "1  Processo Seletivo Simplificado 2 para Contrata...   \n",
       "2  Processo Seletivo Simplificado para preenchime...   \n",
       "3  Processo Seletivo Simplificado para Contrataçã...   \n",
       "\n",
       "                                                link published_at  updated_at  \n",
       "0  https://serratalhada.pe.gov.br/transparencia/p...   14/06/2024  22/06/2024  \n",
       "1  https://serratalhada.pe.gov.br/transparencia/p...   19/06/2024  19/06/2024  \n",
       "2  https://serratalhada.pe.gov.br/transparencia/p...   31/05/2024  14/06/2024  \n",
       "3  https://serratalhada.pe.gov.br/transparencia/p...   16/05/2024  14/06/2024  "
      ]
     },
     "execution_count": 19,
     "metadata": {},
     "output_type": "execute_result"
    }
   ],
   "source": [
    "import pandas as pd\n",
    "notices_df = pd.DataFrame(items_list)\n",
    "notices_df.sort_values(\"updated_at\", ascending=False)"
   ]
  }
 ],
 "metadata": {
  "kernelspec": {
   "display_name": "venv",
   "language": "python",
   "name": "python3"
  },
  "language_info": {
   "codemirror_mode": {
    "name": "ipython",
    "version": 3
   },
   "file_extension": ".py",
   "mimetype": "text/x-python",
   "name": "python",
   "nbconvert_exporter": "python",
   "pygments_lexer": "ipython3",
   "version": "3.12.2"
  }
 },
 "nbformat": 4,
 "nbformat_minor": 2
}
